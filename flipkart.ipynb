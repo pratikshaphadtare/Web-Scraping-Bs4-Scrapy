{
 "cells": [
  {
   "cell_type": "code",
   "execution_count": 2,
   "metadata": {},
   "outputs": [
    {
     "name": "stdout",
     "output_type": "stream",
     "text": [
      "0\n"
     ]
    }
   ],
   "source": [
    "\n",
    "from bs4 import BeautifulSoup as soup  \n",
    "from urllib.request import urlopen as uReq  \n",
    "import os, ssl\n",
    "if (not os.environ.get('PYTHONHTTPSVERIFY', '') and\n",
    "    getattr(ssl, '_create_unverified_context', None)): \n",
    "    ssl._create_default_https_context = ssl._create_unverified_context\n",
    "\n",
    "page_url = \"https://www.flipkart.com/search?q=iphone&otracker=search&otracker1=search&marketplace=FLIPKART&as-show=on&as=off\"\n",
    "\n",
    "uClient = uReq(page_url)\n",
    "page_soup = soup(uClient.read(), \"html.parser\")\n",
    "uClient.close()\n",
    "containers = page_soup.findAll(\"div\", {\"class\": \"bhgxx2 col-12-12\"})\n",
    "print(len(containers))\n",
    "out_filename = \"flipkart7.csv\"\n",
    "headers = \"product_name,Rating,Price \\n\"\n",
    "f = open(out_filename, \"w\",encoding=\"utf-8\")\n",
    "f.write(headers)\n",
    "for container in containers:\n",
    "    product_name = container.find(\"div\", {\"class\":\"_3wU53n\"})\n",
    "    product_rating = container.find(\"div\", {\"class\":\"hGSR34\"})\n",
    "    product_price = container.find(\"div\", {\"class\":\"_1vC4OE _2rQ-NK\"})\n",
    "    if product_name:\n",
    "        x='Product Name:{}, Rating:{}, Price:{}\\n'.format(product_name.get_text(),product_rating.get_text(), product_price.get_text())\n",
    "        print(x)\n",
    "    f.write(x)\n",
    "    \n",
    "f.close()\n"
   ]
  },
  {
   "cell_type": "code",
   "execution_count": null,
   "metadata": {},
   "outputs": [],
   "source": []
  }
 ],
 "metadata": {
  "kernelspec": {
   "display_name": "web scraping",
   "language": "python",
   "name": "python3"
  },
  "language_info": {
   "codemirror_mode": {
    "name": "ipython",
    "version": 3
   },
   "file_extension": ".py",
   "mimetype": "text/x-python",
   "name": "python",
   "nbconvert_exporter": "python",
   "pygments_lexer": "ipython3",
   "version": "3.8.2"
  },
  "orig_nbformat": 4,
  "vscode": {
   "interpreter": {
    "hash": "2451d5e6f178a08959df6fd52b17fb1b8a7fc1281091aa07a2a98b9434ffef9a"
   }
  }
 },
 "nbformat": 4,
 "nbformat_minor": 2
}
